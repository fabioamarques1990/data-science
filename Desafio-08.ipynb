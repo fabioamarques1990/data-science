{
 "cells": [
  {
   "cell_type": "markdown",
   "metadata": {},
   "source": [
    "### Desafío Descarga de Datos desde APIs Públicas\n",
    "\n",
    "Para este trabajo se usará la API BALLDONTLIE que contiene datos sobre los jugadores de NBA."
   ]
  },
  {
   "cell_type": "code",
   "execution_count": 20,
   "metadata": {},
   "outputs": [
    {
     "name": "stdout",
     "output_type": "stream",
     "text": [
      "   id first_name  height_feet  height_inches last_name position  \\\n",
      "0  14        Ike          NaN            NaN  Anigbogu        C   \n",
      "1  25        Ron          NaN            NaN     Baker        G   \n",
      "2  47     Jabari          NaN            NaN      Bird        G   \n",
      "3  67    MarShon          NaN            NaN    Brooks        G   \n",
      "4  71    Lorenzo          NaN            NaN     Brown        G   \n",
      "\n",
      "                                                team  weight_pounds  \n",
      "0  {'id': 12, 'abbreviation': 'IND', 'city': 'Ind...            NaN  \n",
      "1  {'id': 20, 'abbreviation': 'NYK', 'city': 'New...            NaN  \n",
      "2  {'id': 2, 'abbreviation': 'BOS', 'city': 'Bost...            NaN  \n",
      "3  {'id': 15, 'abbreviation': 'MEM', 'city': 'Mem...            NaN  \n",
      "4  {'id': 28, 'abbreviation': 'TOR', 'city': 'Tor...            NaN  \n"
     ]
    }
   ],
   "source": [
    "import requests\n",
    "import pandas as pd\n",
    "import time\n",
    "\n",
    "# Función mejorada para realizar una solicitud GET a la API de balldontlie\n",
    "def get_balldontlie(endpoint, params=None):\n",
    "    base_url = \"https://www.balldontlie.io/api/v1/\"\n",
    "    url = f\"{base_url}{endpoint}\"\n",
    "    \n",
    "    try:\n",
    "        # Realizar la solicitud GET\n",
    "        response = requests.get(url, params=params)\n",
    "        \n",
    "        # Verificar el estado de la respuesta\n",
    "        if response.status_code == 200:\n",
    "            return response.json()\n",
    "        else:\n",
    "            print(f\"Error {response.status_code}: {response.text}\")\n",
    "    except Exception as e:\n",
    "        print(f\"Error en la solicitud: {str(e)}\")\n",
    "    \n",
    "    # Devuelve un diccionario vacío en caso de error\n",
    "    return {}\n",
    "\n",
    "# Función para obtener todos los jugadores\n",
    "def get_all_players():\n",
    "    all_players = []\n",
    "    page = 1\n",
    "    \n",
    "    while True:\n",
    "        params = {\"page\": page}\n",
    "        players_data = get_balldontlie(\"players\", params)\n",
    "        \n",
    "        # Verificar si hay más páginas\n",
    "        if not players_data or not players_data.get('meta', {}).get('next_page'):\n",
    "            break\n",
    "        \n",
    "        # Agregar jugadores a la lista\n",
    "        all_players.extend(players_data['data'])\n",
    "        \n",
    "        # Moverse a la siguiente página\n",
    "        page += 1\n",
    "        \n",
    "        # Esperar un momento antes de la siguiente solicitud para evitar problemas con la API\n",
    "        time.sleep(2)\n",
    "    \n",
    "    return all_players\n",
    "\n",
    "# Obtener todos los jugadores\n",
    "all_players_data = get_all_players()\n",
    "\n",
    "# Crear un DataFrame con los datos de los jugadores\n",
    "df_players = pd.DataFrame(all_players_data)\n",
    "\n",
    "# Imprimir las primeras filas del DataFrame\n",
    "print(df_players.head())\n"
   ]
  },
  {
   "cell_type": "code",
   "execution_count": 23,
   "metadata": {},
   "outputs": [
    {
     "name": "stdout",
     "output_type": "stream",
     "text": [
      "El DataFrame tiene 5200 filas.\n",
      "El DataFrame tiene 8 columnas.\n"
     ]
    }
   ],
   "source": [
    "# Obtener el número total de filas en el DataFrame\n",
    "num_filas = df_players.shape[0]\n",
    "num_columnas = df_players.shape[1]\n",
    "\n",
    "# Imprimir el número total de filas\n",
    "print(f\"El DataFrame tiene {num_filas} filas.\")\n",
    "print(f\"El DataFrame tiene {num_columnas} columnas.\")\n"
   ]
  },
  {
   "cell_type": "markdown",
   "metadata": {},
   "source": [
    "LIMPIEZA DE DATOS"
   ]
  },
  {
   "cell_type": "code",
   "execution_count": 25,
   "metadata": {},
   "outputs": [
    {
     "name": "stdout",
     "output_type": "stream",
     "text": [
      "El número de NaN en la columna 'height_feet' es: 4721\n",
      "El número de NaN en la columna 'height_inches' es: 4721\n",
      "El número de NaN en la columna 'weight_pounds' es: 4721\n"
     ]
    }
   ],
   "source": [
    "# Contar los NaN en la columna \"height_feet\"\n",
    "nan_counthf = df_players['height_feet'].isna().sum()\n",
    "nan_counthi = df_players['height_inches'].isna().sum()\n",
    "nan_countw = df_players['weight_pounds'].isna().sum()\n",
    "\n",
    "# Imprimir el número de NaN en la columna \"height_feet\"\n",
    "print(f\"El número de NaN en la columna 'height_feet' es: {nan_counthf}\")\n",
    "print(f\"El número de NaN en la columna 'height_inches' es: {nan_counthi}\")\n",
    "print(f\"El número de NaN en la columna 'weight_pounds' es: {nan_countw}\")\n"
   ]
  },
  {
   "cell_type": "markdown",
   "metadata": {},
   "source": [
    "Estas 3 características no me aportan nada, así que las borraré del df"
   ]
  },
  {
   "cell_type": "code",
   "execution_count": 26,
   "metadata": {},
   "outputs": [
    {
     "name": "stdout",
     "output_type": "stream",
     "text": [
      "   id first_name last_name position  \\\n",
      "0  14        Ike  Anigbogu        C   \n",
      "1  25        Ron     Baker        G   \n",
      "2  47     Jabari      Bird        G   \n",
      "3  67    MarShon    Brooks        G   \n",
      "4  71    Lorenzo     Brown        G   \n",
      "\n",
      "                                                team  \n",
      "0  {'id': 12, 'abbreviation': 'IND', 'city': 'Ind...  \n",
      "1  {'id': 20, 'abbreviation': 'NYK', 'city': 'New...  \n",
      "2  {'id': 2, 'abbreviation': 'BOS', 'city': 'Bost...  \n",
      "3  {'id': 15, 'abbreviation': 'MEM', 'city': 'Mem...  \n",
      "4  {'id': 28, 'abbreviation': 'TOR', 'city': 'Tor...  \n"
     ]
    }
   ],
   "source": [
    "# Eliminar las columnas 'height_feet', 'height_inches' y 'weight_pounds'\n",
    "df_players = df_players.drop(['height_feet', 'height_inches', 'weight_pounds'], axis=1)\n",
    "\n",
    "# Imprimir el DataFrame actualizado\n",
    "print(df_players.head())\n"
   ]
  },
  {
   "cell_type": "markdown",
   "metadata": {},
   "source": [
    "En mi notebook del proyecto de NBA tengo una característica llamada Player, no está dividido en nombre y apellido, así que tienen que concatenarse en una sola columna. "
   ]
  },
  {
   "cell_type": "code",
   "execution_count": 30,
   "metadata": {},
   "outputs": [
    {
     "name": "stdout",
     "output_type": "stream",
     "text": [
      "     first_name  last_name            Player\n",
      "0           Ike   Anigbogu      Ike Anigbogu\n",
      "1           Ron      Baker         Ron Baker\n",
      "2        Jabari       Bird       Jabari Bird\n",
      "3       MarShon     Brooks    MarShon Brooks\n",
      "4       Lorenzo      Brown     Lorenzo Brown\n",
      "...         ...        ...               ...\n",
      "5195      Micah     Potter      Micah Potter\n",
      "5196        Dru      Smith         Dru Smith\n",
      "5197     MarJon  Beauchamp  MarJon Beauchamp\n",
      "5198      Dyson    Daniels     Dyson Daniels\n",
      "5199      Jaden      Hardy       Jaden Hardy\n",
      "\n",
      "[5200 rows x 3 columns]\n"
     ]
    }
   ],
   "source": [
    "# Concatenar 'first_name' y 'last_name' usando el operador +\n",
    "df_players['Player'] = df_players['first_name'] + ' ' + df_players['last_name']\n",
    "\n",
    "# Imprimir el DataFrame con la nueva columna 'Player'\n",
    "print(df_players[['first_name', 'last_name', 'Player']])\n"
   ]
  },
  {
   "cell_type": "markdown",
   "metadata": {},
   "source": [
    "El siguiente paso es unir esta tabla con la tabla del df usado en el notebook del proyecto final para ver si es que coinciden las posiciones de los jugadores y los equipos donde juegan. "
   ]
  }
 ],
 "metadata": {
  "kernelspec": {
   "display_name": "Python 3",
   "language": "python",
   "name": "python3"
  },
  "language_info": {
   "codemirror_mode": {
    "name": "ipython",
    "version": 3
   },
   "file_extension": ".py",
   "mimetype": "text/x-python",
   "name": "python",
   "nbconvert_exporter": "python",
   "pygments_lexer": "ipython3",
   "version": "3.7.9"
  }
 },
 "nbformat": 4,
 "nbformat_minor": 2
}
